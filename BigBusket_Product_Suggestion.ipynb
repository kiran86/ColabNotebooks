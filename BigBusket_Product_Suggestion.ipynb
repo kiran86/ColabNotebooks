{
  "nbformat": 4,
  "nbformat_minor": 0,
  "metadata": {
    "colab": {
      "provenance": [],
      "authorship_tag": "ABX9TyN2438++uwo82Oqu7yOoTZD",
      "include_colab_link": true
    },
    "kernelspec": {
      "name": "python3",
      "display_name": "Python 3"
    },
    "language_info": {
      "name": "python"
    }
  },
  "cells": [
    {
      "cell_type": "markdown",
      "metadata": {
        "id": "view-in-github",
        "colab_type": "text"
      },
      "source": [
        "<a href=\"https://colab.research.google.com/github/kiran86/ColabNotebooks/blob/main/BigBusket_Product_Suggestion.ipynb\" target=\"_parent\"><img src=\"https://colab.research.google.com/assets/colab-badge.svg\" alt=\"Open In Colab\"/></a>"
      ]
    },
    {
      "cell_type": "markdown",
      "source": [
        "# Apriori Association Rule"
      ],
      "metadata": {
        "id": "TiNtJvHCbHyO"
      }
    },
    {
      "cell_type": "markdown",
      "source": [
        "## Installing Package"
      ],
      "metadata": {
        "id": "19IS_uwNiePz"
      }
    },
    {
      "cell_type": "code",
      "source": [
        "!pip install apyori"
      ],
      "metadata": {
        "colab": {
          "base_uri": "https://localhost:8080/"
        },
        "id": "x-ABgBTAijqW",
        "outputId": "6cc303ec-345b-4d6d-c49d-a2a1feff7d0e"
      },
      "execution_count": null,
      "outputs": [
        {
          "output_type": "stream",
          "name": "stdout",
          "text": [
            "Collecting apyori\n",
            "  Downloading apyori-1.1.2.tar.gz (8.6 kB)\n",
            "  Preparing metadata (setup.py) ... \u001b[?25l\u001b[?25hdone\n",
            "Building wheels for collected packages: apyori\n",
            "  Building wheel for apyori (setup.py) ... \u001b[?25l\u001b[?25hdone\n",
            "  Created wheel for apyori: filename=apyori-1.1.2-py3-none-any.whl size=5954 sha256=29b51559148071287f5ae8e5116db34734b77e3b101c3229d2e742475124cc16\n",
            "  Stored in directory: /root/.cache/pip/wheels/77/3d/a6/d317a6fb32be58a602b1e8c6b5d6f31f79322da554cad2a5ea\n",
            "Successfully built apyori\n",
            "Installing collected packages: apyori\n",
            "Successfully installed apyori-1.1.2\n"
          ]
        }
      ]
    },
    {
      "cell_type": "markdown",
      "source": [
        "## Importing libraries"
      ],
      "metadata": {
        "id": "SBYQ18nLi76a"
      }
    },
    {
      "cell_type": "code",
      "source": [
        "import numpy as np\n",
        "import matplotlib.pyplot as plt\n",
        "import pandas as pd"
      ],
      "metadata": {
        "id": "rFe-eIzojEz3"
      },
      "execution_count": null,
      "outputs": []
    },
    {
      "cell_type": "markdown",
      "source": [
        "## Importing dataset"
      ],
      "metadata": {
        "id": "GHPfo--hjQMj"
      }
    },
    {
      "cell_type": "code",
      "source": [
        "dataset = pd.read_excel(\"Dataset_master.xlsx\", sheet_name=\"Big Basket.com Cart Apriori (Pr\")\n",
        "dataset.info()"
      ],
      "metadata": {
        "colab": {
          "base_uri": "https://localhost:8080/"
        },
        "id": "hTBynVRJjMXw",
        "outputId": "fcb5ea62-f49b-44fa-be93-b154543288c7"
      },
      "execution_count": null,
      "outputs": [
        {
          "output_type": "stream",
          "name": "stdout",
          "text": [
            "<class 'pandas.core.frame.DataFrame'>\n",
            "RangeIndex: 7218 entries, 0 to 7217\n",
            "Data columns (total 20 columns):\n",
            " #   Column       Non-Null Count  Dtype \n",
            "---  ------       --------------  ----- \n",
            " 0   chutney      7218 non-null   object\n",
            " 1   Unnamed: 1   5529 non-null   object\n",
            " 2   Unnamed: 2   4225 non-null   object\n",
            " 3   Unnamed: 3   3226 non-null   object\n",
            " 4   Unnamed: 4   2445 non-null   object\n",
            " 5   Unnamed: 5   1800 non-null   object\n",
            " 6   Unnamed: 6   1324 non-null   object\n",
            " 7   Unnamed: 7   948 non-null    object\n",
            " 8   Unnamed: 8   628 non-null    object\n",
            " 9   Unnamed: 9   382 non-null    object\n",
            " 10  Unnamed: 10  247 non-null    object\n",
            " 11  Unnamed: 11  147 non-null    object\n",
            " 12  Unnamed: 12  86 non-null     object\n",
            " 13  Unnamed: 13  47 non-null     object\n",
            " 14  Unnamed: 14  25 non-null     object\n",
            " 15  Unnamed: 15  8 non-null      object\n",
            " 16  Unnamed: 16  4 non-null      object\n",
            " 17  Unnamed: 17  4 non-null      object\n",
            " 18  Unnamed: 18  3 non-null      object\n",
            " 19  Unnamed: 19  1 non-null      object\n",
            "dtypes: object(20)\n",
            "memory usage: 1.1+ MB\n"
          ]
        }
      ]
    },
    {
      "cell_type": "code",
      "source": [
        "transactions = []\n",
        "for i in range(0, 7218):\n",
        "  transactions.append([str(dataset.values[i,j]) for j in range(0, 20)])"
      ],
      "metadata": {
        "id": "9HWkNp6cb03Q"
      },
      "execution_count": null,
      "outputs": []
    },
    {
      "cell_type": "markdown",
      "source": [
        "## Apriori Association Rule"
      ],
      "metadata": {
        "id": "I6EEiemdiPAT"
      }
    },
    {
      "cell_type": "markdown",
      "source": [
        "### Apriori Training on Dataset"
      ],
      "metadata": {
        "id": "F1mo9iWXlzQz"
      }
    },
    {
      "cell_type": "code",
      "source": [
        "from apyori import apriori\n",
        "basket_inteli = apriori(transactions = transactions, min_support = 0.003, min_confidence = 0.2, min_lift = 3, min_length = 2, max_length = 2)"
      ],
      "metadata": {
        "id": "NF8jMMpol3gO"
      },
      "execution_count": null,
      "outputs": []
    },
    {
      "cell_type": "markdown",
      "source": [
        "## Visualizing"
      ],
      "metadata": {
        "id": "S_zn18tEmrDl"
      }
    },
    {
      "cell_type": "markdown",
      "source": [
        "### Raw Results"
      ],
      "metadata": {
        "id": "9iYaq9VSmvj-"
      }
    },
    {
      "cell_type": "code",
      "source": [
        "results = list(basket_inteli)\n",
        "results"
      ],
      "metadata": {
        "colab": {
          "base_uri": "https://localhost:8080/"
        },
        "id": "8HbUzhhemyTh",
        "outputId": "144c80c5-ba6a-4c1a-d3c5-56e4ea365ccc"
      },
      "execution_count": null,
      "outputs": [
        {
          "output_type": "execute_result",
          "data": {
            "text/plain": [
              "[RelationRecord(items=frozenset({'almonds', 'burgers'}), support=0.005403158769742311, ordered_statistics=[OrderedStatistic(items_base=frozenset({'almonds'}), items_add=frozenset({'burgers'}), confidence=0.26530612244897955, lift=3.059072830410119)]),\n",
              " RelationRecord(items=frozenset({'paneer', 'buns'}), support=0.016070933776669436, ordered_statistics=[OrderedStatistic(items_base=frozenset({'buns'}), items_add=frozenset({'paneer'}), confidence=0.3240223463687151, lift=3.2848220450693617)]),\n",
              " RelationRecord(items=frozenset({'ginger garlic paste', 'chicken'}), support=0.00457190357439734, ordered_statistics=[OrderedStatistic(items_base=frozenset({'ginger garlic paste'}), items_add=frozenset({'chicken'}), confidence=0.29203539823008845, lift=4.7907079646017685)]),\n",
              " RelationRecord(items=frozenset({'vegetable basket', 'fruit basket'}), support=0.005541701302299806, ordered_statistics=[OrderedStatistic(items_base=frozenset({'fruit basket'}), items_add=frozenset({'vegetable basket'}), confidence=0.29411764705882354, lift=3.0811918381285754)]),\n",
              " RelationRecord(items=frozenset({'olive oil', 'ginger garlic paste'}), support=0.0033250207813798837, ordered_statistics=[OrderedStatistic(items_base=frozenset({'ginger garlic paste'}), items_add=frozenset({'olive oil'}), confidence=0.21238938053097345, lift=3.2342332250476087)]),\n",
              " RelationRecord(items=frozenset({'kissan puree', 'paneer'}), support=0.005403158769742311, ordered_statistics=[OrderedStatistic(items_base=frozenset({'kissan puree'}), items_add=frozenset({'paneer'}), confidence=0.3786407766990291, lift=3.838524053670776)]),\n",
              " RelationRecord(items=frozenset({'pasta', 'maggi'}), support=0.003463563313937379, ordered_statistics=[OrderedStatistic(items_base=frozenset({'pasta'}), items_add=frozenset({'maggi'}), confidence=0.24752475247524752, lift=3.455771109025796)]),\n",
              " RelationRecord(items=frozenset({'mushroom', 'pasta'}), support=0.005403158769742311, ordered_statistics=[OrderedStatistic(items_base=frozenset({'pasta'}), items_add=frozenset({'mushroom'}), confidence=0.3861386138613861, lift=4.8726372637263715)]),\n",
              " RelationRecord(items=frozenset({'mushroom', 'pepper spray'}), support=0.005818786367414797, ordered_statistics=[OrderedStatistic(items_base=frozenset({'pepper spray'}), items_add=frozenset({'mushroom'}), confidence=0.302158273381295, lift=3.8128993308849424)]),\n",
              " RelationRecord(items=frozenset({'trolly bag', 'neckrest'}), support=0.003463563313937379, ordered_statistics=[OrderedStatistic(items_base=frozenset({'neckrest'}), items_add=frozenset({'trolly bag'}), confidence=0.27173913043478265, lift=5.62009468045347)]),\n",
              " RelationRecord(items=frozenset({'whole wheat pasta', 'olive oil'}), support=0.0077583818232197285, ordered_statistics=[OrderedStatistic(items_base=frozenset({'whole wheat pasta'}), items_add=frozenset({'olive oil'}), confidence=0.26666666666666666, lift=4.060759493670886)])]"
            ]
          },
          "metadata": {},
          "execution_count": 6
        }
      ]
    },
    {
      "cell_type": "markdown",
      "source": [
        "### Proper Display"
      ],
      "metadata": {
        "id": "NpM5ZMQsnJM6"
      }
    },
    {
      "cell_type": "code",
      "source": [
        "def inspect(results):\n",
        "  product1  = [tuple(result[2][0][0])[0] for result in results]\n",
        "  product2  = [tuple(result[2][0][1])[0] for result in results]\n",
        "  supports   = [result[1] for result in results]\n",
        "  confidences = [result[2][0][2] for result in results]\n",
        "  lifts = [result[2][0][3] for result in results]\n",
        "  return list(zip(product1, product2, supports, confidences, lifts))\n",
        "df_intelli = pd.DataFrame(inspect(results), columns = ['Product 1', 'Product 2', 'Support', 'Confidence', 'Lift'])"
      ],
      "metadata": {
        "id": "ZfG6Py7snl4v"
      },
      "execution_count": null,
      "outputs": []
    },
    {
      "cell_type": "code",
      "source": [
        "print(df_intelli.nlargest(n = 10, columns = 'Lift'))"
      ],
      "metadata": {
        "colab": {
          "base_uri": "https://localhost:8080/"
        },
        "id": "eWZkkKmOoX8Z",
        "outputId": "718310a2-7736-4787-d0b9-ca5307bb1f54"
      },
      "execution_count": null,
      "outputs": [
        {
          "output_type": "stream",
          "name": "stdout",
          "text": [
            "              Product 1         Product 2   Support  Confidence      Lift\n",
            "9              neckrest        trolly bag  0.003464    0.271739  5.620095\n",
            "7                 pasta          mushroom  0.005403    0.386139  4.872637\n",
            "2   ginger garlic paste           chicken  0.004572    0.292035  4.790708\n",
            "10    whole wheat pasta         olive oil  0.007758    0.266667  4.060759\n",
            "5          kissan puree            paneer  0.005403    0.378641  3.838524\n",
            "8          pepper spray          mushroom  0.005819    0.302158  3.812899\n",
            "6                 pasta             maggi  0.003464    0.247525  3.455771\n",
            "1                  buns            paneer  0.016071    0.324022  3.284822\n",
            "4   ginger garlic paste         olive oil  0.003325    0.212389  3.234233\n",
            "3          fruit basket  vegetable basket  0.005542    0.294118  3.081192\n"
          ]
        }
      ]
    }
  ]
}